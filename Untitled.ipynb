{
 "cells": [
  {
   "cell_type": "code",
   "execution_count": 48,
   "id": "cecb35b8-8335-4080-af5a-f8548a103e98",
   "metadata": {},
   "outputs": [],
   "source": [
    "import pandas as pd \n",
    "import numpy as np \n",
    "import matplotlib.pyplot as plt \n",
    "import seaborn as sns\n",
    "from sklearn.model_selection import train_test_split\n",
    "from sklearn.linear_model import LinearRegression\n",
    "from sklearn.svm import SVR\n",
    "from sklearn.ensemble import RandomForestRegressor\n",
    "from sklearn.ensemble import GradientBoostingRegressor\n",
    "from sklearn.metrics import r2_score,mean_absolute_error\n",
    "import joblib"
   ]
  },
  {
   "cell_type": "code",
   "execution_count": 3,
   "id": "c00c1dec-358f-46ce-8070-ef522478bc65",
   "metadata": {},
   "outputs": [],
   "source": [
    "df=pd.read_csv('insurance.csv')"
   ]
  },
  {
   "cell_type": "code",
   "execution_count": 4,
   "id": "417e49c4-e898-4d9c-a6da-bd4b0e1792d0",
   "metadata": {},
   "outputs": [
    {
     "data": {
      "text/html": [
       "<div>\n",
       "<style scoped>\n",
       "    .dataframe tbody tr th:only-of-type {\n",
       "        vertical-align: middle;\n",
       "    }\n",
       "\n",
       "    .dataframe tbody tr th {\n",
       "        vertical-align: top;\n",
       "    }\n",
       "\n",
       "    .dataframe thead th {\n",
       "        text-align: right;\n",
       "    }\n",
       "</style>\n",
       "<table border=\"1\" class=\"dataframe\">\n",
       "  <thead>\n",
       "    <tr style=\"text-align: right;\">\n",
       "      <th></th>\n",
       "      <th>age</th>\n",
       "      <th>sex</th>\n",
       "      <th>bmi</th>\n",
       "      <th>children</th>\n",
       "      <th>smoker</th>\n",
       "      <th>region</th>\n",
       "      <th>charges</th>\n",
       "    </tr>\n",
       "  </thead>\n",
       "  <tbody>\n",
       "    <tr>\n",
       "      <th>0</th>\n",
       "      <td>19</td>\n",
       "      <td>female</td>\n",
       "      <td>27.900</td>\n",
       "      <td>0</td>\n",
       "      <td>yes</td>\n",
       "      <td>southwest</td>\n",
       "      <td>16884.92400</td>\n",
       "    </tr>\n",
       "    <tr>\n",
       "      <th>1</th>\n",
       "      <td>18</td>\n",
       "      <td>male</td>\n",
       "      <td>33.770</td>\n",
       "      <td>1</td>\n",
       "      <td>no</td>\n",
       "      <td>southeast</td>\n",
       "      <td>1725.55230</td>\n",
       "    </tr>\n",
       "    <tr>\n",
       "      <th>2</th>\n",
       "      <td>28</td>\n",
       "      <td>male</td>\n",
       "      <td>33.000</td>\n",
       "      <td>3</td>\n",
       "      <td>no</td>\n",
       "      <td>southeast</td>\n",
       "      <td>4449.46200</td>\n",
       "    </tr>\n",
       "    <tr>\n",
       "      <th>3</th>\n",
       "      <td>33</td>\n",
       "      <td>male</td>\n",
       "      <td>22.705</td>\n",
       "      <td>0</td>\n",
       "      <td>no</td>\n",
       "      <td>northwest</td>\n",
       "      <td>21984.47061</td>\n",
       "    </tr>\n",
       "    <tr>\n",
       "      <th>4</th>\n",
       "      <td>32</td>\n",
       "      <td>male</td>\n",
       "      <td>28.880</td>\n",
       "      <td>0</td>\n",
       "      <td>no</td>\n",
       "      <td>northwest</td>\n",
       "      <td>3866.85520</td>\n",
       "    </tr>\n",
       "  </tbody>\n",
       "</table>\n",
       "</div>"
      ],
      "text/plain": [
       "   age     sex     bmi  children smoker     region      charges\n",
       "0   19  female  27.900         0    yes  southwest  16884.92400\n",
       "1   18    male  33.770         1     no  southeast   1725.55230\n",
       "2   28    male  33.000         3     no  southeast   4449.46200\n",
       "3   33    male  22.705         0     no  northwest  21984.47061\n",
       "4   32    male  28.880         0     no  northwest   3866.85520"
      ]
     },
     "execution_count": 4,
     "metadata": {},
     "output_type": "execute_result"
    }
   ],
   "source": [
    "df.head()"
   ]
  },
  {
   "cell_type": "code",
   "execution_count": 5,
   "id": "20dd34cf-d4ba-4b1e-b574-c11f65048111",
   "metadata": {},
   "outputs": [
    {
     "name": "stdout",
     "output_type": "stream",
     "text": [
      "<class 'pandas.core.frame.DataFrame'>\n",
      "RangeIndex: 1338 entries, 0 to 1337\n",
      "Data columns (total 7 columns):\n",
      " #   Column    Non-Null Count  Dtype  \n",
      "---  ------    --------------  -----  \n",
      " 0   age       1338 non-null   int64  \n",
      " 1   sex       1338 non-null   object \n",
      " 2   bmi       1338 non-null   float64\n",
      " 3   children  1338 non-null   int64  \n",
      " 4   smoker    1338 non-null   object \n",
      " 5   region    1338 non-null   object \n",
      " 6   charges   1338 non-null   float64\n",
      "dtypes: float64(2), int64(2), object(3)\n",
      "memory usage: 73.3+ KB\n"
     ]
    }
   ],
   "source": [
    "df.info()"
   ]
  },
  {
   "cell_type": "code",
   "execution_count": 6,
   "id": "cefe3922-79ff-4a69-afeb-d09e66cdd644",
   "metadata": {},
   "outputs": [
    {
     "data": {
      "text/plain": [
       "(1338, 7)"
      ]
     },
     "execution_count": 6,
     "metadata": {},
     "output_type": "execute_result"
    }
   ],
   "source": [
    "df.shape\n"
   ]
  },
  {
   "cell_type": "code",
   "execution_count": 7,
   "id": "0b98a049-f9e4-4ce5-81b0-431c5e0b0a2d",
   "metadata": {},
   "outputs": [
    {
     "data": {
      "text/html": [
       "<div>\n",
       "<style scoped>\n",
       "    .dataframe tbody tr th:only-of-type {\n",
       "        vertical-align: middle;\n",
       "    }\n",
       "\n",
       "    .dataframe tbody tr th {\n",
       "        vertical-align: top;\n",
       "    }\n",
       "\n",
       "    .dataframe thead th {\n",
       "        text-align: right;\n",
       "    }\n",
       "</style>\n",
       "<table border=\"1\" class=\"dataframe\">\n",
       "  <thead>\n",
       "    <tr style=\"text-align: right;\">\n",
       "      <th></th>\n",
       "      <th>age</th>\n",
       "      <th>bmi</th>\n",
       "      <th>children</th>\n",
       "      <th>charges</th>\n",
       "    </tr>\n",
       "  </thead>\n",
       "  <tbody>\n",
       "    <tr>\n",
       "      <th>count</th>\n",
       "      <td>1338.000000</td>\n",
       "      <td>1338.000000</td>\n",
       "      <td>1338.000000</td>\n",
       "      <td>1338.000000</td>\n",
       "    </tr>\n",
       "    <tr>\n",
       "      <th>mean</th>\n",
       "      <td>39.207025</td>\n",
       "      <td>30.663397</td>\n",
       "      <td>1.094918</td>\n",
       "      <td>13270.422265</td>\n",
       "    </tr>\n",
       "    <tr>\n",
       "      <th>std</th>\n",
       "      <td>14.049960</td>\n",
       "      <td>6.098187</td>\n",
       "      <td>1.205493</td>\n",
       "      <td>12110.011237</td>\n",
       "    </tr>\n",
       "    <tr>\n",
       "      <th>min</th>\n",
       "      <td>18.000000</td>\n",
       "      <td>15.960000</td>\n",
       "      <td>0.000000</td>\n",
       "      <td>1121.873900</td>\n",
       "    </tr>\n",
       "    <tr>\n",
       "      <th>25%</th>\n",
       "      <td>27.000000</td>\n",
       "      <td>26.296250</td>\n",
       "      <td>0.000000</td>\n",
       "      <td>4740.287150</td>\n",
       "    </tr>\n",
       "    <tr>\n",
       "      <th>50%</th>\n",
       "      <td>39.000000</td>\n",
       "      <td>30.400000</td>\n",
       "      <td>1.000000</td>\n",
       "      <td>9382.033000</td>\n",
       "    </tr>\n",
       "    <tr>\n",
       "      <th>75%</th>\n",
       "      <td>51.000000</td>\n",
       "      <td>34.693750</td>\n",
       "      <td>2.000000</td>\n",
       "      <td>16639.912515</td>\n",
       "    </tr>\n",
       "    <tr>\n",
       "      <th>max</th>\n",
       "      <td>64.000000</td>\n",
       "      <td>53.130000</td>\n",
       "      <td>5.000000</td>\n",
       "      <td>63770.428010</td>\n",
       "    </tr>\n",
       "  </tbody>\n",
       "</table>\n",
       "</div>"
      ],
      "text/plain": [
       "               age          bmi     children       charges\n",
       "count  1338.000000  1338.000000  1338.000000   1338.000000\n",
       "mean     39.207025    30.663397     1.094918  13270.422265\n",
       "std      14.049960     6.098187     1.205493  12110.011237\n",
       "min      18.000000    15.960000     0.000000   1121.873900\n",
       "25%      27.000000    26.296250     0.000000   4740.287150\n",
       "50%      39.000000    30.400000     1.000000   9382.033000\n",
       "75%      51.000000    34.693750     2.000000  16639.912515\n",
       "max      64.000000    53.130000     5.000000  63770.428010"
      ]
     },
     "execution_count": 7,
     "metadata": {},
     "output_type": "execute_result"
    }
   ],
   "source": [
    "df.describe()"
   ]
  },
  {
   "cell_type": "code",
   "execution_count": 8,
   "id": "ccf5cfb3-0253-4f2f-b117-5954a1e0adfd",
   "metadata": {},
   "outputs": [
    {
     "data": {
      "text/plain": [
       "age         0\n",
       "sex         0\n",
       "bmi         0\n",
       "children    0\n",
       "smoker      0\n",
       "region      0\n",
       "charges     0\n",
       "dtype: int64"
      ]
     },
     "execution_count": 8,
     "metadata": {},
     "output_type": "execute_result"
    }
   ],
   "source": [
    "df.isna().sum()"
   ]
  },
  {
   "cell_type": "code",
   "execution_count": 9,
   "id": "3116fdb5-2e95-44fa-8c9a-aa396786b640",
   "metadata": {},
   "outputs": [
    {
     "data": {
      "text/plain": [
       "Index(['age', 'sex', 'bmi', 'children', 'smoker', 'region', 'charges'], dtype='object')"
      ]
     },
     "execution_count": 9,
     "metadata": {},
     "output_type": "execute_result"
    }
   ],
   "source": [
    "df.columns"
   ]
  },
  {
   "cell_type": "code",
   "execution_count": 10,
   "id": "e6f177df-f28b-4b48-a9b0-013683cb8213",
   "metadata": {},
   "outputs": [
    {
     "data": {
      "text/plain": [
       "array(['female', 'male'], dtype=object)"
      ]
     },
     "execution_count": 10,
     "metadata": {},
     "output_type": "execute_result"
    }
   ],
   "source": [
    "df['sex'].unique()"
   ]
  },
  {
   "cell_type": "code",
   "execution_count": 11,
   "id": "b0f13c9a-fe63-4630-ba88-38e6f8d3f3fe",
   "metadata": {},
   "outputs": [],
   "source": [
    "df['sex']=df['sex'].map({\"female\":1,\"male\":0}).astype('int')"
   ]
  },
  {
   "cell_type": "code",
   "execution_count": 12,
   "id": "023edaa9-d623-4c86-9996-25fa8eb2f5dc",
   "metadata": {},
   "outputs": [
    {
     "data": {
      "text/plain": [
       "0       1\n",
       "1       0\n",
       "2       0\n",
       "3       0\n",
       "4       0\n",
       "       ..\n",
       "1333    0\n",
       "1334    1\n",
       "1335    1\n",
       "1336    1\n",
       "1337    1\n",
       "Name: sex, Length: 1338, dtype: int32"
      ]
     },
     "execution_count": 12,
     "metadata": {},
     "output_type": "execute_result"
    }
   ],
   "source": [
    "df['sex']"
   ]
  },
  {
   "cell_type": "code",
   "execution_count": 14,
   "id": "bdf6b1d8-3e50-48f9-92ae-67b185883605",
   "metadata": {},
   "outputs": [
    {
     "data": {
      "text/plain": [
       "array(['yes', 'no'], dtype=object)"
      ]
     },
     "execution_count": 14,
     "metadata": {},
     "output_type": "execute_result"
    }
   ],
   "source": [
    "df['smoker'].unique()"
   ]
  },
  {
   "cell_type": "code",
   "execution_count": 15,
   "id": "4822eb24-e995-4c15-94bc-5000e0c46a7b",
   "metadata": {},
   "outputs": [],
   "source": [
    "df['smoker']=df['smoker'].map({\"yes\":0,\"no\":1}).astype('int')"
   ]
  },
  {
   "cell_type": "code",
   "execution_count": 18,
   "id": "47a21a6c-410e-472f-a86e-09f41c716816",
   "metadata": {},
   "outputs": [
    {
     "data": {
      "text/plain": [
       "array(['southwest', 'southeast', 'northwest', 'northeast'], dtype=object)"
      ]
     },
     "execution_count": 18,
     "metadata": {},
     "output_type": "execute_result"
    }
   ],
   "source": [
    "df['region'].unique()"
   ]
  },
  {
   "cell_type": "code",
   "execution_count": 22,
   "id": "80ffd77d-4bf2-46d3-ab42-c9514e6025cc",
   "metadata": {},
   "outputs": [],
   "source": [
    "#one hot encoding\n",
    "df_new=pd.get_dummies(df,columns=['region'])"
   ]
  },
  {
   "cell_type": "code",
   "execution_count": 23,
   "id": "b3d01044-6615-4ac7-be8e-b402ce40b9d4",
   "metadata": {},
   "outputs": [
    {
     "data": {
      "text/plain": [
       "age                   int64\n",
       "sex                   int32\n",
       "bmi                 float64\n",
       "children              int64\n",
       "smoker                int32\n",
       "charges             float64\n",
       "region_northeast      uint8\n",
       "region_northwest      uint8\n",
       "region_southeast      uint8\n",
       "region_southwest      uint8\n",
       "dtype: object"
      ]
     },
     "execution_count": 23,
     "metadata": {},
     "output_type": "execute_result"
    }
   ],
   "source": [
    "df_new.dtypes"
   ]
  },
  {
   "cell_type": "markdown",
   "id": "50ad33ed-602b-4477-83c2-2dd1095b1a36",
   "metadata": {},
   "source": [
    "## Getting the Features matrix and the target vector"
   ]
  },
  {
   "cell_type": "code",
   "execution_count": 24,
   "id": "614c214f-e3fe-4856-8e9f-ae66831d42da",
   "metadata": {},
   "outputs": [],
   "source": [
    "X=df_new.drop(['charges'],axis=1)\n",
    "y=df_new['charges']"
   ]
  },
  {
   "cell_type": "markdown",
   "id": "a55f6ef1-9191-4216-b011-9399dc2db473",
   "metadata": {},
   "source": [
    "## Splitting the data "
   ]
  },
  {
   "cell_type": "code",
   "execution_count": 26,
   "id": "fff42e10-b87b-4a8d-8997-123724798fd4",
   "metadata": {},
   "outputs": [],
   "source": [
    "X_train,X_test,y_train,y_test=train_test_split(X,y,test_size=0.2,random_state=22)"
   ]
  },
  {
   "cell_type": "markdown",
   "id": "2f386904-9fdc-49b7-9e3a-b8780a9a385e",
   "metadata": {},
   "source": [
    "## Model training  "
   ]
  },
  {
   "cell_type": "code",
   "execution_count": 28,
   "id": "ec569dd0-868f-4415-a807-84762adaac0a",
   "metadata": {},
   "outputs": [],
   "source": [
    "lr=LinearRegression()\n",
    "sv=SVR()\n",
    "rfr=RandomForestRegressor()\n",
    "gbr=GradientBoostingRegressor()"
   ]
  },
  {
   "cell_type": "code",
   "execution_count": 29,
   "id": "565d4930-4c52-4d1c-9337-7a1ea6e2cb4e",
   "metadata": {},
   "outputs": [
    {
     "data": {
      "text/plain": [
       "GradientBoostingRegressor()"
      ]
     },
     "execution_count": 29,
     "metadata": {},
     "output_type": "execute_result"
    }
   ],
   "source": [
    "lr.fit(X_train,y_train)\n",
    "sv.fit(X_train,y_train)\n",
    "rfr.fit(X_train,y_train)\n",
    "gbr.fit(X_train,y_train)"
   ]
  },
  {
   "cell_type": "markdown",
   "id": "42dca539-7ace-44a9-b70f-aa6e063d1ad1",
   "metadata": {},
   "source": [
    "## Predictions using test data "
   ]
  },
  {
   "cell_type": "code",
   "execution_count": 31,
   "id": "1fb4c4dd-9978-4a24-86e0-02616252196e",
   "metadata": {},
   "outputs": [],
   "source": [
    "lr_result=lr.predict(X_test)\n",
    "sv_result=sv.predict(X_test)\n",
    "rfr_result=rfr.predict(X_test)\n",
    "gbr_result=gbr.predict(X_test)"
   ]
  },
  {
   "cell_type": "code",
   "execution_count": 32,
   "id": "b21fa582-f462-49df-a343-5c060c9d929f",
   "metadata": {},
   "outputs": [],
   "source": [
    "results={'actual':y_test,'lr_result':lr_result,'sv_result':sv_result,'rfr_result':rfr_result,'gbr_result':gbr_result}\n",
    "res=pd.DataFrame(results)"
   ]
  },
  {
   "cell_type": "code",
   "execution_count": 34,
   "id": "154cdffb-275e-44da-b6a1-8cd0e5994675",
   "metadata": {},
   "outputs": [
    {
     "data": {
      "text/html": [
       "<div>\n",
       "<style scoped>\n",
       "    .dataframe tbody tr th:only-of-type {\n",
       "        vertical-align: middle;\n",
       "    }\n",
       "\n",
       "    .dataframe tbody tr th {\n",
       "        vertical-align: top;\n",
       "    }\n",
       "\n",
       "    .dataframe thead th {\n",
       "        text-align: right;\n",
       "    }\n",
       "</style>\n",
       "<table border=\"1\" class=\"dataframe\">\n",
       "  <thead>\n",
       "    <tr style=\"text-align: right;\">\n",
       "      <th></th>\n",
       "      <th>actual</th>\n",
       "      <th>lr_result</th>\n",
       "      <th>sv_result</th>\n",
       "      <th>rfr_result</th>\n",
       "      <th>gbr_result</th>\n",
       "    </tr>\n",
       "  </thead>\n",
       "  <tbody>\n",
       "    <tr>\n",
       "      <th>1231</th>\n",
       "      <td>20167.33603</td>\n",
       "      <td>23196.042130</td>\n",
       "      <td>9122.304714</td>\n",
       "      <td>14788.456132</td>\n",
       "      <td>15340.533412</td>\n",
       "    </tr>\n",
       "    <tr>\n",
       "      <th>768</th>\n",
       "      <td>14319.03100</td>\n",
       "      <td>17482.967370</td>\n",
       "      <td>9339.977954</td>\n",
       "      <td>14263.868798</td>\n",
       "      <td>13661.251332</td>\n",
       "    </tr>\n",
       "    <tr>\n",
       "      <th>847</th>\n",
       "      <td>2438.05520</td>\n",
       "      <td>10348.659988</td>\n",
       "      <td>9153.405965</td>\n",
       "      <td>6477.134738</td>\n",
       "      <td>4038.523838</td>\n",
       "    </tr>\n",
       "    <tr>\n",
       "      <th>510</th>\n",
       "      <td>11763.00090</td>\n",
       "      <td>13651.924766</td>\n",
       "      <td>9309.433109</td>\n",
       "      <td>11974.813498</td>\n",
       "      <td>13618.262808</td>\n",
       "    </tr>\n",
       "    <tr>\n",
       "      <th>363</th>\n",
       "      <td>2597.77900</td>\n",
       "      <td>1954.470791</td>\n",
       "      <td>9123.414435</td>\n",
       "      <td>3074.910544</td>\n",
       "      <td>3772.851159</td>\n",
       "    </tr>\n",
       "    <tr>\n",
       "      <th>...</th>\n",
       "      <td>...</td>\n",
       "      <td>...</td>\n",
       "      <td>...</td>\n",
       "      <td>...</td>\n",
       "      <td>...</td>\n",
       "    </tr>\n",
       "    <tr>\n",
       "      <th>882</th>\n",
       "      <td>2585.85065</td>\n",
       "      <td>708.413526</td>\n",
       "      <td>9124.662434</td>\n",
       "      <td>2550.727691</td>\n",
       "      <td>2499.646738</td>\n",
       "    </tr>\n",
       "    <tr>\n",
       "      <th>1039</th>\n",
       "      <td>22493.65964</td>\n",
       "      <td>2413.130204</td>\n",
       "      <td>9118.078501</td>\n",
       "      <td>5832.610340</td>\n",
       "      <td>4856.333335</td>\n",
       "    </tr>\n",
       "    <tr>\n",
       "      <th>874</th>\n",
       "      <td>8891.13950</td>\n",
       "      <td>7827.117793</td>\n",
       "      <td>9237.208295</td>\n",
       "      <td>9591.136803</td>\n",
       "      <td>8133.740302</td>\n",
       "    </tr>\n",
       "    <tr>\n",
       "      <th>757</th>\n",
       "      <td>23065.42070</td>\n",
       "      <td>32157.680787</td>\n",
       "      <td>9258.113904</td>\n",
       "      <td>25051.769527</td>\n",
       "      <td>26273.425043</td>\n",
       "    </tr>\n",
       "    <tr>\n",
       "      <th>701</th>\n",
       "      <td>9541.69555</td>\n",
       "      <td>16254.587192</td>\n",
       "      <td>9278.298934</td>\n",
       "      <td>11555.418443</td>\n",
       "      <td>11614.548854</td>\n",
       "    </tr>\n",
       "  </tbody>\n",
       "</table>\n",
       "<p>268 rows × 5 columns</p>\n",
       "</div>"
      ],
      "text/plain": [
       "           actual     lr_result    sv_result    rfr_result    gbr_result\n",
       "1231  20167.33603  23196.042130  9122.304714  14788.456132  15340.533412\n",
       "768   14319.03100  17482.967370  9339.977954  14263.868798  13661.251332\n",
       "847    2438.05520  10348.659988  9153.405965   6477.134738   4038.523838\n",
       "510   11763.00090  13651.924766  9309.433109  11974.813498  13618.262808\n",
       "363    2597.77900   1954.470791  9123.414435   3074.910544   3772.851159\n",
       "...           ...           ...          ...           ...           ...\n",
       "882    2585.85065    708.413526  9124.662434   2550.727691   2499.646738\n",
       "1039  22493.65964   2413.130204  9118.078501   5832.610340   4856.333335\n",
       "874    8891.13950   7827.117793  9237.208295   9591.136803   8133.740302\n",
       "757   23065.42070  32157.680787  9258.113904  25051.769527  26273.425043\n",
       "701    9541.69555  16254.587192  9278.298934  11555.418443  11614.548854\n",
       "\n",
       "[268 rows x 5 columns]"
      ]
     },
     "execution_count": 34,
     "metadata": {},
     "output_type": "execute_result"
    }
   ],
   "source": [
    "res"
   ]
  },
  {
   "cell_type": "markdown",
   "id": "bff77a6b-a76e-4055-8125-4fb8f3331e08",
   "metadata": {},
   "source": [
    "## Model evaluation"
   ]
  },
  {
   "cell_type": "code",
   "execution_count": 42,
   "id": "cb9a5ed0-8b7d-42c7-8a1a-1c393f1fa1f1",
   "metadata": {},
   "outputs": [],
   "source": [
    "lr_score=r2_score(y_test,lr_result)\n",
    "sv_score=r2_score(y_test,sv_result)\n",
    "rfr_score=r2_score(y_test,rfr_result)\n",
    "gbr_score=r2_score(y_test,gbr_result)\n"
   ]
  },
  {
   "cell_type": "code",
   "execution_count": 43,
   "id": "91105574-8f3d-451d-9129-3b879f490f03",
   "metadata": {},
   "outputs": [
    {
     "name": "stdout",
     "output_type": "stream",
     "text": [
      "0.7573007577902942 -0.1186582084979746 0.8158596556680113 0.8337886489844972\n"
     ]
    }
   ],
   "source": [
    "print(lr_score,\n",
    "sv_score,\n",
    "rfr_score,\n",
    "gbr_score)"
   ]
  },
  {
   "cell_type": "code",
   "execution_count": 44,
   "id": "4b4051fa-669f-4171-a321-63a7b0e39a8f",
   "metadata": {},
   "outputs": [],
   "source": [
    "lr_score=mean_absolute_error(y_test,lr_result)\n",
    "sv_score=mean_absolute_error(y_test,sv_result)\n",
    "rfr_score=mean_absolute_error(y_test,rfr_result)\n",
    "gbr_score=mean_absolute_error(y_test,gbr_result)"
   ]
  },
  {
   "cell_type": "code",
   "execution_count": 45,
   "id": "62795399-8c73-4322-aefa-2ffc3d2bc2aa",
   "metadata": {},
   "outputs": [
    {
     "name": "stdout",
     "output_type": "stream",
     "text": [
      "4102.86488244744 8396.712866572545 2994.1048526621275 2739.9608155739074\n"
     ]
    }
   ],
   "source": [
    "print(lr_score,\n",
    "sv_score,\n",
    "rfr_score,\n",
    "gbr_score)"
   ]
  },
  {
   "cell_type": "markdown",
   "id": "a8f01d46-cbdb-4c4e-88ca-a12725da9447",
   "metadata": {},
   "source": [
    "## GradientBoostingRegressor is the best performing model for this dataset. So we will train it again on the entire dataset"
   ]
  },
  {
   "cell_type": "code",
   "execution_count": 46,
   "id": "67c54aa6-6bb0-45b0-ad5d-a8925bf738d7",
   "metadata": {},
   "outputs": [],
   "source": [
    "gbr=GradientBoostingRegressor()"
   ]
  },
  {
   "cell_type": "code",
   "execution_count": 47,
   "id": "7146a92c-d7a1-4c66-b903-6ff7d9da2bf8",
   "metadata": {},
   "outputs": [
    {
     "data": {
      "text/plain": [
       "GradientBoostingRegressor()"
      ]
     },
     "execution_count": 47,
     "metadata": {},
     "output_type": "execute_result"
    }
   ],
   "source": [
    "gbr.fit(X,y)"
   ]
  },
  {
   "cell_type": "code",
   "execution_count": 62,
   "id": "613ec1d0-46db-445b-b5cc-992239154daf",
   "metadata": {},
   "outputs": [
    {
     "data": {
      "text/plain": [
       "['insurance_model_final.pkl']"
      ]
     },
     "execution_count": 62,
     "metadata": {},
     "output_type": "execute_result"
    }
   ],
   "source": [
    "joblib.dump(gbr,\"insurance_model_final.pkl\")"
   ]
  },
  {
   "cell_type": "code",
   "execution_count": 63,
   "id": "a7dc7096-fb90-46e8-8b16-ea56f2e428e2",
   "metadata": {},
   "outputs": [],
   "source": [
    "model=joblib.load(\"insurance_model_final.pkl\")"
   ]
  },
  {
   "cell_type": "code",
   "execution_count": 64,
   "id": "8ceb2105-b538-4a7b-bddb-596f802043b5",
   "metadata": {},
   "outputs": [
    {
     "data": {
      "text/plain": [
       "Index(['age', 'sex', 'bmi', 'children', 'smoker', 'charges',\n",
       "       'region_northeast', 'region_northwest', 'region_southeast',\n",
       "       'region_southwest'],\n",
       "      dtype='object')"
      ]
     },
     "execution_count": 64,
     "metadata": {},
     "output_type": "execute_result"
    }
   ],
   "source": [
    "df_new.columns"
   ]
  },
  {
   "cell_type": "code",
   "execution_count": 66,
   "id": "b0e74d4d-1995-4598-97e5-bd382256c0ec",
   "metadata": {},
   "outputs": [
    {
     "data": {
      "text/html": [
       "<div>\n",
       "<style scoped>\n",
       "    .dataframe tbody tr th:only-of-type {\n",
       "        vertical-align: middle;\n",
       "    }\n",
       "\n",
       "    .dataframe tbody tr th {\n",
       "        vertical-align: top;\n",
       "    }\n",
       "\n",
       "    .dataframe thead th {\n",
       "        text-align: right;\n",
       "    }\n",
       "</style>\n",
       "<table border=\"1\" class=\"dataframe\">\n",
       "  <thead>\n",
       "    <tr style=\"text-align: right;\">\n",
       "      <th></th>\n",
       "      <th>age</th>\n",
       "      <th>sex</th>\n",
       "      <th>bmi</th>\n",
       "      <th>children</th>\n",
       "      <th>smoker</th>\n",
       "      <th>region_northeast</th>\n",
       "      <th>region_northwest</th>\n",
       "      <th>region_southeast</th>\n",
       "      <th>region_southwest</th>\n",
       "    </tr>\n",
       "  </thead>\n",
       "  <tbody>\n",
       "    <tr>\n",
       "      <th>0</th>\n",
       "      <td>40</td>\n",
       "      <td>1</td>\n",
       "      <td>40.3</td>\n",
       "      <td>4</td>\n",
       "      <td>1</td>\n",
       "      <td>1</td>\n",
       "      <td>0</td>\n",
       "      <td>0</td>\n",
       "      <td>0</td>\n",
       "    </tr>\n",
       "  </tbody>\n",
       "</table>\n",
       "</div>"
      ],
      "text/plain": [
       "   age  sex   bmi  children  smoker  region_northeast  region_northwest  \\\n",
       "0   40    1  40.3         4       1                 1                 0   \n",
       "\n",
       "   region_southeast  region_southwest  \n",
       "0                 0                 0  "
      ]
     },
     "execution_count": 66,
     "metadata": {},
     "output_type": "execute_result"
    }
   ],
   "source": [
    "df_pred = pd.DataFrame({'age' : 40,\n",
    "        'sex' : 1,\n",
    "        'bmi' : 40.30,\n",
    "        'children' : 4,\n",
    "        'smoker' : 1,\n",
    "        'region_northeast':1,\n",
    "        'region_northwest' :0,\n",
    "        'region_southeast' :0,\n",
    "       'region_southwest':0},index=[0])\n",
    "df_pred"
   ]
  },
  {
   "cell_type": "code",
   "execution_count": 73,
   "id": "6cc79d37-b6bb-45e0-8eba-6190ca52f587",
   "metadata": {},
   "outputs": [
    {
     "data": {
      "text/plain": [
       "array([11599.03599307])"
      ]
     },
     "execution_count": 73,
     "metadata": {},
     "output_type": "execute_result"
    }
   ],
   "source": [
    "prediction=model.predict(df_pred)\n",
    "prediction"
   ]
  },
  {
   "cell_type": "code",
   "execution_count": 69,
   "id": "0a050551-f618-4981-b8de-94661efb4d15",
   "metadata": {},
   "outputs": [],
   "source": []
  },
  {
   "cell_type": "code",
   "execution_count": 72,
   "id": "1d0b4dce-8d1a-412e-bcbb-8fbffeaf4525",
   "metadata": {},
   "outputs": [],
   "source": []
  },
  {
   "cell_type": "code",
   "execution_count": null,
   "id": "f2e3d7b6-d925-4504-97a1-33f0fe4bb53f",
   "metadata": {},
   "outputs": [],
   "source": []
  }
 ],
 "metadata": {
  "kernelspec": {
   "display_name": "Python 3 (ipykernel)",
   "language": "python",
   "name": "python3"
  },
  "language_info": {
   "codemirror_mode": {
    "name": "ipython",
    "version": 3
   },
   "file_extension": ".py",
   "mimetype": "text/x-python",
   "name": "python",
   "nbconvert_exporter": "python",
   "pygments_lexer": "ipython3",
   "version": "3.9.7"
  }
 },
 "nbformat": 4,
 "nbformat_minor": 5
}
